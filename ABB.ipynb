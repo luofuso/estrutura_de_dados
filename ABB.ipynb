{
  "nbformat": 4,
  "nbformat_minor": 0,
  "metadata": {
    "colab": {
      "provenance": [],
      "include_colab_link": true
    },
    "kernelspec": {
      "name": "python3",
      "display_name": "Python 3"
    },
    "language_info": {
      "name": "python"
    }
  },
  "cells": [
    {
      "cell_type": "markdown",
      "metadata": {
        "id": "view-in-github",
        "colab_type": "text"
      },
      "source": [
        "<a href=\"https://colab.research.google.com/github/luofuso/estrutura_de_dados/blob/main/ABB.ipynb\" target=\"_parent\"><img src=\"https://colab.research.google.com/assets/colab-badge.svg\" alt=\"Open In Colab\"/></a>"
      ]
    },
    {
      "cell_type": "markdown",
      "source": [
        "# Definição em Python para Árvore Binária:\n",
        "\n",
        "Uso de duas classes:\n",
        "\n",
        "*   Para guardar o primeiro nó da árvore utilizamos uma classe ArvBin\n",
        "*   Para guardar cada nó usamos a classe NO\n",
        "\n",
        "Assim, fica fácil mudar quem é a raiz da árvore (se necessário)"
      ],
      "metadata": {
        "id": "hU-K7psqq6SP"
      }
    },
    {
      "cell_type": "code",
      "execution_count": 11,
      "metadata": {
        "id": "SNx1Bo3xpXIr"
      },
      "outputs": [],
      "source": [
        "class NO:\n",
        "    def __init__(self, info):\n",
        "        self.info = info\n",
        "        self.esquerda = None\n",
        "        self.direita = None\n",
        "\n",
        "    # Representação de um nó\n",
        "    def __repr__(self):\n",
        "        return '%s <- %s -> %s' % (self.esquerda and self.esquerda.info,\n",
        "                                    self.info,\n",
        "                                    self.direita and self.direita.info)"
      ]
    },
    {
      "cell_type": "code",
      "source": [
        "arv = NO(40)\n",
        "\n",
        "arv.esquerda = NO(20)\n",
        "arv.direita  = NO(60)\n",
        "\n",
        "arv.direita.esquerda  = NO(50)\n",
        "arv.direita.direita   = NO(70)\n",
        "arv.esquerda.esquerda = NO(10)\n",
        "arv.esquerda.direita  = NO(30)"
      ],
      "metadata": {
        "id": "hqAbR2_7slEq"
      },
      "execution_count": null,
      "outputs": []
    },
    {
      "cell_type": "code",
      "source": [
        "arv"
      ],
      "metadata": {
        "colab": {
          "base_uri": "https://localhost:8080/"
        },
        "id": "djXNlKLhsyWc",
        "outputId": "2ea62aed-ab62-42a3-d1f8-58b85cc3a53b"
      },
      "execution_count": null,
      "outputs": [
        {
          "output_type": "execute_result",
          "data": {
            "text/plain": [
              "20 <- 40 -> 60"
            ]
          },
          "metadata": {},
          "execution_count": 4
        }
      ]
    },
    {
      "cell_type": "code",
      "source": [
        "arv.esquerda"
      ],
      "metadata": {
        "colab": {
          "base_uri": "https://localhost:8080/"
        },
        "id": "hFQJ21kQtCRP",
        "outputId": "4c50f6f3-e698-4a70-f5f3-5fae85d506b0"
      },
      "execution_count": null,
      "outputs": [
        {
          "output_type": "execute_result",
          "data": {
            "text/plain": [
              "10 <- 20 -> 30"
            ]
          },
          "metadata": {},
          "execution_count": 5
        }
      ]
    },
    {
      "cell_type": "code",
      "source": [
        "arv.direita"
      ],
      "metadata": {
        "colab": {
          "base_uri": "https://localhost:8080/"
        },
        "id": "rYAGH_6YtFgX",
        "outputId": "e88322c8-30f3-498a-941f-aadcf6156ca2"
      },
      "execution_count": null,
      "outputs": [
        {
          "output_type": "execute_result",
          "data": {
            "text/plain": [
              "50 <- 60 -> 70"
            ]
          },
          "metadata": {},
          "execution_count": 6
        }
      ]
    },
    {
      "cell_type": "markdown",
      "source": [
        "# Árvore Binária de Busca (ABB)\n",
        "\n",
        "Os nós de uma ABB são organizados de acordo com as propriedades:\n",
        "\n",
        "*   Dado um nodo qualquer da árvore, todos os nodos à esqueda dele são menores ou iguais a ele.\n",
        "*   Dado um nodo qualquer da árvore, todos os nodos à direita dele são maiores ou iguais a ele.\n"
      ],
      "metadata": {
        "id": "5n0UX1kHtIfP"
      }
    },
    {
      "cell_type": "markdown",
      "source": [
        "Exemplo:"
      ],
      "metadata": {
        "id": "ACNK3jgau3Sy"
      }
    },
    {
      "cell_type": "code",
      "source": [
        "arv1 = NO(40)\n",
        "\n",
        "arv1.esquerda = NO(20)\n",
        "arv1.direita = NO(60)\n",
        "\n",
        "arv1.direita.esquerda = NO(50)\n",
        "arv1.direita.direita = NO(70)\n",
        "arv1.esquerda.esquerda = NO(10)\n",
        "arv1.esquerda.direita = NO(30)"
      ],
      "metadata": {
        "id": "c3B8GJ-5u9RJ"
      },
      "execution_count": 12,
      "outputs": []
    },
    {
      "cell_type": "code",
      "source": [
        "def emOrdem(raiz):\n",
        "    if not raiz:\n",
        "        return\n",
        "\n",
        "    # Visita filho da esquerda.\n",
        "    emOrdem(raiz.esquerda)\n",
        "\n",
        "    # Visita nó atual.\n",
        "    print(raiz.info, end= \" \")\n",
        "\n",
        "    # Visita filho da direita.\n",
        "    emOrdem(raiz.direita)\n",
        "\n",
        "emOrdem(arv2)"
      ],
      "metadata": {
        "colab": {
          "base_uri": "https://localhost:8080/"
        },
        "id": "t7h_q0VluwNy",
        "outputId": "7f485947-f76e-47eb-cf46-78f0253ead66"
      },
      "execution_count": 20,
      "outputs": [
        {
          "output_type": "stream",
          "name": "stdout",
          "text": [
            "3 8 19 37 50 53 64 72 87 98 110 121 145 176 189 "
          ]
        }
      ]
    },
    {
      "cell_type": "markdown",
      "source": [
        "**Exercício 1**: Crie uma árvore binária de busca, contendo elementos 15 entre 0 e 200. Use a função `emOrdem` para o percurso."
      ],
      "metadata": {
        "id": "eEWqc2P5wlRt"
      }
    },
    {
      "cell_type": "code",
      "source": [
        "arv2 = NO(72)\n",
        "\n",
        "arv2.esquerda = NO(19)\n",
        "arv2.direita = NO(121)\n",
        "\n",
        "arv2.direita.esquerda = NO(110)\n",
        "arv2.direita.direita = NO(145)\n",
        "arv2.esquerda.esquerda = NO(8)\n",
        "arv2.esquerda.direita = NO(37)\n",
        "arv2.esquerda.esquerda.esquerda = NO(3)\n",
        "arv2.esquerda.direita.direita = NO(53)\n",
        "arv2.esquerda.direita.direita.direita = NO(64)\n",
        "arv2.direita.esquerda.esquerda = NO(98)\n",
        "arv2.direita.direita.direita = NO(176)\n",
        "arv2.direita.direita.direita.direita = NO(189)\n",
        "arv2.direita.esquerda.esquerda.esquerda = NO(87)\n",
        "arv2.esquerda.direita.direita.esquerda = NO(50)"
      ],
      "metadata": {
        "id": "iANYP5odyBVn"
      },
      "execution_count": 19,
      "outputs": []
    },
    {
      "cell_type": "markdown",
      "source": [
        "# Classe Arvore Binária\n",
        "\n",
        "A definição geral para a classe **Árvore Binária** a seguir será utilizada para a criação de árvores binárias de busca. Para garantir que uma árvore binária seja ABB, é necessário que uma **função de inserção** garanta a organização dos elementos (menores à esquerda e maiores à direita), e que a função de remoção faça o mesmo.\n",
        "\n",
        "![image.png](data:image/png;base64,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)"
      ],
      "metadata": {
        "id": "nMF2XHEIvwi2"
      }
    },
    {
      "cell_type": "code",
      "source": [
        "class ArvBin:\n",
        "    def __init__ (self):\n",
        "       self.__raiz = None\n",
        "\n",
        "    def insere(self, valor):\n",
        "        novo = NO(valor)\n",
        "\n",
        "        if(self.__raiz == None):\n",
        "            self.__raiz = novo\n",
        "        else:\n",
        "            atual = self.__raiz\n",
        "            ant = None\n",
        "            while(atual != None):\n",
        "                ant = atual\n",
        "                if(valor > atual.info):\n",
        "                    atual = atual.direita\n",
        "                elif(valor < atual.info):\n",
        "                    atual = atual.esquerda\n",
        "                else:\n",
        "                    print(\"Valor já inserido\")\n",
        "                    return\n",
        "            if(valor > ant.info):\n",
        "                ant.direita = novo\n",
        "            else:\n",
        "                ant.esquerda = novo\n",
        "\n",
        "        return True\n",
        "\n",
        "arv2 = ArvBin()\n",
        "\n",
        "lista = [3,8,19,37,50,53,64,72,87,98,110,121,145,176,189]\n",
        "\n",
        "\n",
        "for i in lista:\n",
        "  arv2.insere(lista)\n",
        "\n",
        "\n",
        "\n"
      ],
      "metadata": {
        "colab": {
          "base_uri": "https://localhost:8080/"
        },
        "id": "bAuN5Wp2xFoG",
        "outputId": "ed60b9bc-6d26-4b2c-df10-b69e567b8f3d"
      },
      "execution_count": 24,
      "outputs": [
        {
          "output_type": "stream",
          "name": "stdout",
          "text": [
            "Valor já inserido\n",
            "Valor já inserido\n",
            "Valor já inserido\n",
            "Valor já inserido\n",
            "Valor já inserido\n",
            "Valor já inserido\n",
            "Valor já inserido\n",
            "Valor já inserido\n",
            "Valor já inserido\n",
            "Valor já inserido\n",
            "Valor já inserido\n",
            "Valor já inserido\n",
            "Valor já inserido\n",
            "Valor já inserido\n"
          ]
        }
      ]
    },
    {
      "cell_type": "markdown",
      "source": [
        "Se um elemento estiver repetido, ele não deve estar armazenado na árvore."
      ],
      "metadata": {
        "id": "yzEmmXEX76Md"
      }
    },
    {
      "cell_type": "code",
      "source": [
        "arv2.insere(50)"
      ],
      "metadata": {
        "colab": {
          "base_uri": "https://localhost:8080/",
          "height": 297
        },
        "id": "RnfeYZmP8Bpt",
        "outputId": "2037c447-8ad4-491a-94e6-eed8eb3be7a1"
      },
      "execution_count": 25,
      "outputs": [
        {
          "output_type": "error",
          "ename": "TypeError",
          "evalue": "ignored",
          "traceback": [
            "\u001b[0;31m---------------------------------------------------------------------------\u001b[0m",
            "\u001b[0;31mTypeError\u001b[0m                                 Traceback (most recent call last)",
            "\u001b[0;32m<ipython-input-25-77151b51afb7>\u001b[0m in \u001b[0;36m<cell line: 1>\u001b[0;34m()\u001b[0m\n\u001b[0;32m----> 1\u001b[0;31m \u001b[0marv2\u001b[0m\u001b[0;34m.\u001b[0m\u001b[0minsere\u001b[0m\u001b[0;34m(\u001b[0m\u001b[0;36m50\u001b[0m\u001b[0;34m)\u001b[0m\u001b[0;34m\u001b[0m\u001b[0;34m\u001b[0m\u001b[0m\n\u001b[0m",
            "\u001b[0;32m<ipython-input-24-aa701502c42c>\u001b[0m in \u001b[0;36minsere\u001b[0;34m(self, valor)\u001b[0m\n\u001b[1;32m     13\u001b[0m             \u001b[0;32mwhile\u001b[0m\u001b[0;34m(\u001b[0m\u001b[0matual\u001b[0m \u001b[0;34m!=\u001b[0m \u001b[0;32mNone\u001b[0m\u001b[0;34m)\u001b[0m\u001b[0;34m:\u001b[0m\u001b[0;34m\u001b[0m\u001b[0;34m\u001b[0m\u001b[0m\n\u001b[1;32m     14\u001b[0m                 \u001b[0mant\u001b[0m \u001b[0;34m=\u001b[0m \u001b[0matual\u001b[0m\u001b[0;34m\u001b[0m\u001b[0;34m\u001b[0m\u001b[0m\n\u001b[0;32m---> 15\u001b[0;31m                 \u001b[0;32mif\u001b[0m\u001b[0;34m(\u001b[0m\u001b[0mvalor\u001b[0m \u001b[0;34m>\u001b[0m \u001b[0matual\u001b[0m\u001b[0;34m.\u001b[0m\u001b[0minfo\u001b[0m\u001b[0;34m)\u001b[0m\u001b[0;34m:\u001b[0m\u001b[0;34m\u001b[0m\u001b[0;34m\u001b[0m\u001b[0m\n\u001b[0m\u001b[1;32m     16\u001b[0m                     \u001b[0matual\u001b[0m \u001b[0;34m=\u001b[0m \u001b[0matual\u001b[0m\u001b[0;34m.\u001b[0m\u001b[0mdireita\u001b[0m\u001b[0;34m\u001b[0m\u001b[0;34m\u001b[0m\u001b[0m\n\u001b[1;32m     17\u001b[0m                 \u001b[0;32melif\u001b[0m\u001b[0;34m(\u001b[0m\u001b[0mvalor\u001b[0m \u001b[0;34m<\u001b[0m \u001b[0matual\u001b[0m\u001b[0;34m.\u001b[0m\u001b[0minfo\u001b[0m\u001b[0;34m)\u001b[0m\u001b[0;34m:\u001b[0m\u001b[0;34m\u001b[0m\u001b[0;34m\u001b[0m\u001b[0m\n",
            "\u001b[0;31mTypeError\u001b[0m: '>' not supported between instances of 'int' and 'list'"
          ]
        }
      ]
    },
    {
      "cell_type": "markdown",
      "source": [
        "**Exercício 2**: Altere a função de inserção, para que o resultado anterior seja falso. A função de inserção deverá rejeitar um número que já exista na árvore.\n",
        "\n",
        "**Exercício 3**: Inclua as funções de percurso emOrdem, preOrdem e posOrdem\n",
        "\n",
        "**Exercício 4**: Considerando que todos os elementos são inteiros, faça uma função para calcular a soma de todos os elementos\n",
        "\n",
        "**Exercício 5**: Escreva uma função para realizar a busca de um elemento na ABB. Caso o elemento exista retorne True, caso contrário False."
      ],
      "metadata": {
        "id": "UWfXNSWK8Gbc"
      }
    }
  ]
}